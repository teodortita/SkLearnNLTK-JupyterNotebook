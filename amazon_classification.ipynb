{
 "cells": [
  {
   "cell_type": "code",
   "execution_count": 1,
   "metadata": {},
   "outputs": [],
   "source": [
    "import csv # csv reader\n",
    "from sklearn.svm import LinearSVC\n",
    "from nltk.classify import SklearnClassifier\n",
    "from random import shuffle\n",
    "from sklearn.pipeline import Pipeline"
   ]
  },
  {
   "cell_type": "markdown",
   "metadata": {},
   "source": [
    "# Perform exploratory data analysis to validate the intuitive assumption that rating, verified purchase and product category are the 3 most relevant additional features to include in the model as to improve it"
   ]
  },
  {
   "cell_type": "code",
   "execution_count": 2,
   "metadata": {},
   "outputs": [],
   "source": [
    "# Import specific python packages for dataframe manipulation, plotting and visualisation\n",
    "\n",
    "import pandas as pd\n",
    "import matplotlib.pyplot as plt\n",
    "import seaborn as sns"
   ]
  },
  {
   "cell_type": "code",
   "execution_count": 3,
   "metadata": {},
   "outputs": [
    {
     "data": {
      "text/html": [
       "<div>\n",
       "<style scoped>\n",
       "    .dataframe tbody tr th:only-of-type {\n",
       "        vertical-align: middle;\n",
       "    }\n",
       "\n",
       "    .dataframe tbody tr th {\n",
       "        vertical-align: top;\n",
       "    }\n",
       "\n",
       "    .dataframe thead th {\n",
       "        text-align: right;\n",
       "    }\n",
       "</style>\n",
       "<table border=\"1\" class=\"dataframe\">\n",
       "  <thead>\n",
       "    <tr style=\"text-align: right;\">\n",
       "      <th></th>\n",
       "      <th>DOC_ID</th>\n",
       "      <th>LABEL</th>\n",
       "      <th>RATING</th>\n",
       "      <th>VERIFIED_PURCHASE</th>\n",
       "      <th>PRODUCT_CATEGORY</th>\n",
       "      <th>PRODUCT_ID</th>\n",
       "      <th>PRODUCT_TITLE</th>\n",
       "      <th>REVIEW_TITLE</th>\n",
       "      <th>REVIEW_TEXT</th>\n",
       "    </tr>\n",
       "  </thead>\n",
       "  <tbody>\n",
       "    <tr>\n",
       "      <th>0</th>\n",
       "      <td>1</td>\n",
       "      <td>__label1__</td>\n",
       "      <td>4</td>\n",
       "      <td>N</td>\n",
       "      <td>PC</td>\n",
       "      <td>B00008NG7N</td>\n",
       "      <td>Targus PAUK10U Ultra Mini USB Keypad, Black</td>\n",
       "      <td>useful</td>\n",
       "      <td>When least you think so, this product will sav...</td>\n",
       "    </tr>\n",
       "    <tr>\n",
       "      <th>1</th>\n",
       "      <td>2</td>\n",
       "      <td>__label1__</td>\n",
       "      <td>4</td>\n",
       "      <td>Y</td>\n",
       "      <td>Wireless</td>\n",
       "      <td>B00LH0Y3NM</td>\n",
       "      <td>Note 3 Battery : Stalion Strength Replacement ...</td>\n",
       "      <td>New era for batteries</td>\n",
       "      <td>Lithium batteries are something new introduced...</td>\n",
       "    </tr>\n",
       "    <tr>\n",
       "      <th>2</th>\n",
       "      <td>3</td>\n",
       "      <td>__label1__</td>\n",
       "      <td>3</td>\n",
       "      <td>N</td>\n",
       "      <td>Baby</td>\n",
       "      <td>B000I5UZ1Q</td>\n",
       "      <td>Fisher-Price Papasan Cradle Swing, Starlight</td>\n",
       "      <td>doesn't swing very well.</td>\n",
       "      <td>I purchased this swing for my baby. She is 6 m...</td>\n",
       "    </tr>\n",
       "    <tr>\n",
       "      <th>3</th>\n",
       "      <td>4</td>\n",
       "      <td>__label1__</td>\n",
       "      <td>4</td>\n",
       "      <td>N</td>\n",
       "      <td>Office Products</td>\n",
       "      <td>B003822IRA</td>\n",
       "      <td>Casio MS-80B Standard Function Desktop Calculator</td>\n",
       "      <td>Great computing!</td>\n",
       "      <td>I was looking for an inexpensive desk calcolat...</td>\n",
       "    </tr>\n",
       "    <tr>\n",
       "      <th>4</th>\n",
       "      <td>5</td>\n",
       "      <td>__label1__</td>\n",
       "      <td>4</td>\n",
       "      <td>N</td>\n",
       "      <td>Beauty</td>\n",
       "      <td>B00PWSAXAM</td>\n",
       "      <td>Shine Whitening - Zero Peroxide Teeth Whitenin...</td>\n",
       "      <td>Only use twice a week</td>\n",
       "      <td>I only use it twice a week and the results are...</td>\n",
       "    </tr>\n",
       "  </tbody>\n",
       "</table>\n",
       "</div>"
      ],
      "text/plain": [
       "   DOC_ID       LABEL  RATING VERIFIED_PURCHASE PRODUCT_CATEGORY  PRODUCT_ID  \\\n",
       "0       1  __label1__       4                 N               PC  B00008NG7N   \n",
       "1       2  __label1__       4                 Y         Wireless  B00LH0Y3NM   \n",
       "2       3  __label1__       3                 N             Baby  B000I5UZ1Q   \n",
       "3       4  __label1__       4                 N  Office Products  B003822IRA   \n",
       "4       5  __label1__       4                 N           Beauty  B00PWSAXAM   \n",
       "\n",
       "                                       PRODUCT_TITLE  \\\n",
       "0        Targus PAUK10U Ultra Mini USB Keypad, Black   \n",
       "1  Note 3 Battery : Stalion Strength Replacement ...   \n",
       "2       Fisher-Price Papasan Cradle Swing, Starlight   \n",
       "3  Casio MS-80B Standard Function Desktop Calculator   \n",
       "4  Shine Whitening - Zero Peroxide Teeth Whitenin...   \n",
       "\n",
       "               REVIEW_TITLE                                        REVIEW_TEXT  \n",
       "0                    useful  When least you think so, this product will sav...  \n",
       "1     New era for batteries  Lithium batteries are something new introduced...  \n",
       "2  doesn't swing very well.  I purchased this swing for my baby. She is 6 m...  \n",
       "3          Great computing!  I was looking for an inexpensive desk calcolat...  \n",
       "4     Only use twice a week  I only use it twice a week and the results are...  "
      ]
     },
     "execution_count": 3,
     "metadata": {},
     "output_type": "execute_result"
    }
   ],
   "source": [
    "# Read TXT as a CSV file with delimiters\n",
    "\n",
    "data = pd.read_csv(\"amazon_reviews.txt\", delimiter = \"\\t\")\n",
    "data.head()"
   ]
  },
  {
   "cell_type": "code",
   "execution_count": 4,
   "metadata": {},
   "outputs": [],
   "source": [
    "# Convert both categorical labels to meaningful numeric values\n",
    "\n",
    "data.loc[data[\"LABEL\"] == \"__label1__\", \"LABEL\"] = '1'\n",
    "data.loc[data[\"LABEL\"] == \"__label2__\", \"LABEL\"] = '0'"
   ]
  },
  {
   "cell_type": "code",
   "execution_count": 5,
   "metadata": {},
   "outputs": [
    {
     "data": {
      "text/plain": [
       "LABEL  RATING\n",
       "0      5         6151\n",
       "       4         1974\n",
       "       3          942\n",
       "       1          868\n",
       "       2          565\n",
       "1      5         6059\n",
       "       4         1999\n",
       "       3          926\n",
       "       1          889\n",
       "       2          627\n",
       "Name: RATING, dtype: int64"
      ]
     },
     "execution_count": 5,
     "metadata": {},
     "output_type": "execute_result"
    }
   ],
   "source": [
    "# Group by label and count values in the 'Rating' column\n",
    "\n",
    "labelsGrouped = data.groupby(data[\"LABEL\"]).RATING.value_counts()\n",
    "\n",
    "labelsGrouped"
   ]
  },
  {
   "cell_type": "code",
   "execution_count": 6,
   "metadata": {},
   "outputs": [
    {
     "data": {
      "image/png": "[encoded data removed]",
      "text/plain": [
       "<Figure size 1152x576 with 1 Axes>"
      ]
     },
     "metadata": {
      "needs_background": "light"
     },
     "output_type": "display_data"
    }
   ],
   "source": [
    "# Plot using a barplot (seaborn) the 'Label' vs. the 'Rating' variable\n",
    "\n",
    "plt.figure(figsize=(16,8))\n",
    "\n",
    "sns.barplot(labelsGrouped.index, labelsGrouped.values, palette='Accent')\n",
    "\n",
    "plt.title('Label VS. Rating', fontsize = 16)\n",
    "plt.xlabel('(Label, Rating)', fontsize = 16)\n",
    "plt.ylabel('No. of Occurrences', fontsize = 16)\n",
    "\n",
    "plt.show()"
   ]
  },
  {
   "cell_type": "markdown",
   "metadata": {},
   "source": [
    "# By visually analysing the above chart, it is clear that regardless of the review label the reviews with the maximum rating (5) are the most numerous"
   ]
  },
  {
   "cell_type": "code",
   "execution_count": 7,
   "metadata": {},
   "outputs": [
    {
     "data": {
      "text/plain": [
       "VERIFIED_PURCHASE  LABEL\n",
       "N                  1        7623\n",
       "                   0        1679\n",
       "Y                  0        8821\n",
       "                   1        2877\n",
       "Name: LABEL, dtype: int64"
      ]
     },
     "execution_count": 7,
     "metadata": {},
     "output_type": "execute_result"
    }
   ],
   "source": [
    "# Group by the verified purchase status and count values in the 'Label' column\n",
    "\n",
    "verifiedPurchase_grouped = data.groupby(\"VERIFIED_PURCHASE\").LABEL.value_counts()\n",
    "\n",
    "verifiedPurchase_grouped"
   ]
  },
  {
   "cell_type": "code",
   "execution_count": 8,
   "metadata": {},
   "outputs": [
    {
     "data": {
      "image/png": "[encoded data removed]",
      "text/plain": [
       "<Figure size 1152x576 with 1 Axes>"
      ]
     },
     "metadata": {
      "needs_background": "light"
     },
     "output_type": "display_data"
    }
   ],
   "source": [
    "# Plot using a barplot (seaborn) the 'Verified Purchase' vs. the 'Label' variable\n",
    "\n",
    "plt.figure(figsize=(16,8))\n",
    "\n",
    "sns.barplot(verifiedPurchase_grouped.index, verifiedPurchase_grouped.values, palette = 'Accent')\n",
    "\n",
    "plt.title('Verified Purchase VS. Label', fontsize = 16)\n",
    "plt.xlabel('(Verified Purchase, Label)', fontsize = 16)\n",
    "plt.ylabel('No. of Occurrences', fontsize = 16)\n",
    "\n",
    "plt.show()"
   ]
  },
  {
   "cell_type": "markdown",
   "metadata": {},
   "source": [
    "## By visually analysing the above chart, it is clear that true reviews with a verified purchase, along with fake reviews with no verified purchase are the two most prevalent categories by far in this dataset."
   ]
  },
  {
   "cell_type": "markdown",
   "metadata": {},
   "source": [
    "## Therefore, two intuitive conclusions can be drawn: \n",
    "\n",
    "    a) reviews with verified purchase - high probability of being true\n",
    "    b) reviews with no verified purchase - high probability of being false"
   ]
  },
  {
   "cell_type": "code",
   "execution_count": 9,
   "metadata": {
    "scrolled": true
   },
   "outputs": [
    {
     "data": {
      "text/plain": [
       "LABEL  PRODUCT_CATEGORY      \n",
       "0      Apparel                   350\n",
       "       Automotive                350\n",
       "       Baby                      350\n",
       "       Beauty                    350\n",
       "       Books                     350\n",
       "       Camera                    350\n",
       "       Electronics               350\n",
       "       Furniture                 350\n",
       "       Grocery                   350\n",
       "       Health & Personal Care    350\n",
       "       Home                      350\n",
       "       Home Entertainment        350\n",
       "       Home Improvement          350\n",
       "       Jewelry                   350\n",
       "       Kitchen                   350\n",
       "       Lawn and Garden           350\n",
       "       Luggage                   350\n",
       "       Musical Instruments       350\n",
       "       Office Products           350\n",
       "       Outdoors                  350\n",
       "       PC                        350\n",
       "       Pet Products              350\n",
       "       Shoes                     350\n",
       "       Sports                    350\n",
       "       Tools                     350\n",
       "       Toys                      350\n",
       "       Video DVD                 350\n",
       "       Video Games               350\n",
       "       Watches                   350\n",
       "       Wireless                  350\n",
       "1      Apparel                   350\n",
       "       Automotive                350\n",
       "       Baby                      350\n",
       "       Beauty                    350\n",
       "       Books                     350\n",
       "       Camera                    350\n",
       "       Electronics               350\n",
       "       Furniture                 350\n",
       "       Grocery                   350\n",
       "       Health & Personal Care    350\n",
       "       Home                      350\n",
       "       Home Entertainment        350\n",
       "       Home Improvement          350\n",
       "       Jewelry                   350\n",
       "       Kitchen                   350\n",
       "       Lawn and Garden           350\n",
       "       Luggage                   350\n",
       "       Musical Instruments       350\n",
       "       Office Products           350\n",
       "       Outdoors                  350\n",
       "       PC                        350\n",
       "       Pet Products              350\n",
       "       Shoes                     350\n",
       "       Sports                    350\n",
       "       Tools                     350\n",
       "       Toys                      350\n",
       "       Video DVD                 350\n",
       "       Video Games               350\n",
       "       Watches                   350\n",
       "       Wireless                  350\n",
       "Name: PRODUCT_CATEGORY, dtype: int64"
      ]
     },
     "execution_count": 9,
     "metadata": {},
     "output_type": "execute_result"
    }
   ],
   "source": [
    "# Group by label and count values in the 'Product Category' column\n",
    "\n",
    "labelsGrouped2 = data.groupby(\"LABEL\").PRODUCT_CATEGORY.value_counts()\n",
    "\n",
    "labelsGrouped2"
   ]
  },
  {
   "cell_type": "code",
   "execution_count": 10,
   "metadata": {},
   "outputs": [
    {
     "data": {
      "image/png": "[encoded data removed]",
      "text/plain": [
       "<Figure size 1152x576 with 1 Axes>"
      ]
     },
     "metadata": {
      "needs_background": "light"
     },
     "output_type": "display_data"
    }
   ],
   "source": [
    "# Plot using a barplot (seaborn) the 'Label' vs. the 'Verified Purchase' variable\n",
    "\n",
    "plt.figure(figsize=(16,8))\n",
    "\n",
    "sns.barplot(labelsGrouped2.index, labelsGrouped2.values, palette = 'Accent')\n",
    "\n",
    "plt.title('Label VS. Product Category', fontsize = 16)\n",
    "plt.xlabel('(Label, Product Category)', fontsize = 16)\n",
    "plt.ylabel('No. of Occurrences', fontsize = 16)\n",
    "\n",
    "plt.xticks(rotation = 'vertical')\n",
    "\n",
    "plt.show()"
   ]
  },
  {
   "cell_type": "markdown",
   "metadata": {},
   "source": [
    "## By visually analysing the above chart, no intuitive conclusion can be drawn as this dataset is perfectly balanced in regard to the ratio of product categories corresponding to the reviews "
   ]
  },
  {
   "cell_type": "code",
   "execution_count": 11,
   "metadata": {},
   "outputs": [],
   "source": [
    "# load data from a file and append it to the rawData\n",
    "def loadData(path, Text=None):\n",
    "    with open(path) as f:\n",
    "        reader = csv.reader(f, delimiter='\\t')\n",
    "        for line in reader:\n",
    "            if line[0] == \"DOC_ID\":  # skip the header\n",
    "                continue\n",
    "            (Id, Rating, verifiedPurchase, productCategory, Text, Label) = parseReview(line)\n",
    "            rawData.append((Id, Rating, verifiedPurchase, productCategory, Text, Label))\n",
    "            \n",
    "def splitData(percentage):\n",
    "    # A method to split the data between trainData and testData \n",
    "    dataSamples = len(rawData)\n",
    "    halfOfData = int(len(rawData)/2)\n",
    "    trainingSamples = int((percentage*dataSamples)/2)\n",
    "    \n",
    "    for (_, Rating, verifiedPurchase, productCategory, Text, Label) in rawData[:trainingSamples] + rawData[halfOfData:halfOfData + trainingSamples]:\n",
    "        trainData.append((toFeatureVector(Rating, verifiedPurchase, productCategory, preProcess(Text)), Label))\n",
    "    \n",
    "    for (_, Rating, verifiedPurchase, productCategory, Text, Label) in rawData[trainingSamples:halfOfData] + rawData[halfOfData + trainingSamples:]:\n",
    "        testData.append((toFeatureVector(Rating, verifiedPurchase, productCategory, preProcess(Text)), Label))"
   ]
  },
  {
   "cell_type": "code",
   "execution_count": 12,
   "metadata": {},
   "outputs": [],
   "source": [
    "# Convert line from input file into an id/text/label tuple\n",
    "def parseReview(reviewLine):\n",
    "    # Should return a triple of an integer, a string containing the review, and a string indicating the label\n",
    "    # DESCRIBE YOUR METHOD IN WORDS\n",
    "    \n",
    "    # Initiates an empty label string, assigns it based on a conditional\n",
    "    # from the second string present in a specific review line, thus\n",
    "    # attributing meaningful names to the two (category) labels.\n",
    "    \n",
    "    # Finally assigns review ID, rating, status of verified purchase,\n",
    "    # product category and review text to variables and outputs\n",
    "    # a tuple containing all these features.\n",
    "    \n",
    "    labelString = \"\"\n",
    "    \n",
    "    if reviewLine[1] == \"__label1__\":\n",
    "        labelString = \"fake\"\n",
    "    else:\n",
    "        labelString = \"real\"\n",
    "    \n",
    "    Id = int(reviewLine[0])\n",
    "    Rating = int(reviewLine[2])\n",
    "    verifiedPurchase = reviewLine[3]\n",
    "    productCategory = reviewLine[4]\n",
    "    Text = reviewLine[8]\n",
    "    \n",
    "    return (Id, Rating, verifiedPurchase, productCategory, Text, labelString)"
   ]
  },
  {
   "cell_type": "code",
   "execution_count": 13,
   "metadata": {},
   "outputs": [],
   "source": [
    "# TEXT PREPROCESSING AND FEATURE VECTORIZATION\n",
    "\n",
    "import nltk\n",
    "from nltk.tokenize import WhitespaceTokenizer\n",
    "from nltk.corpus import stopwords\n",
    "from nltk.stem import WordNetLemmatizer\n",
    "from nltk.util import ngrams\n",
    "\n",
    "# Input: a string of one review\n",
    "def preProcess(text):\n",
    "    # Should return a list of tokens\n",
    "    # DESCRIBE YOUR METHOD IN WORDS\n",
    "    \n",
    "    # Instantiate specific utlity NLTK classes to call their methods on \n",
    "    # a review text string in order to preprocess it using the following\n",
    "    # techniques sequentially: whitespace tokenization, stopwords removal,\n",
    "    # lemmatization, along with the use of both unigrams and bigrams in\n",
    "    # a concatenated list.\n",
    "    \n",
    "    # Finally outputs a list of tokens.\n",
    "    \n",
    "    # Whitespace tokenization\n",
    "    tk = WhitespaceTokenizer()\n",
    "    tokens = tk.tokenize(text) \n",
    "    \n",
    "    # Stopwords removal\n",
    "    tokens = [word for word in tokens if not word in stopwords.words(\"english\")]\n",
    "    \n",
    "    # Instantiate lemmatizer\n",
    "    lemmatizer = WordNetLemmatizer()\n",
    "\n",
    "    # Create 2 empty lists for lemmatized and for filtered (output) tokens\n",
    "    lemmatizedTokens = []\n",
    "    filteredTokens = []\n",
    "    \n",
    "    # Loop through the list containing the tokens\n",
    "    for word in tokens:\n",
    "        \n",
    "        # Lemmatize each lowered word (token) then append it to the list\n",
    "        lemmatizedTokens.append(lemmatizer.lemmatize(word.lower()))\n",
    "        \n",
    "        # Perform list concatenation - unigrams and bigrams\n",
    "        filteredTokens = [' '.join(lem) for lem in nltk.bigrams(lemmatizedTokens)] + lemmatizedTokens\n",
    "        \n",
    "    return filteredTokens"
   ]
  },
  {
   "cell_type": "code",
   "execution_count": 14,
   "metadata": {},
   "outputs": [],
   "source": [
    "featureDict = {} # A global dictionary of features\n",
    "\n",
    "def toFeatureVector(Rating, verifiedPurchase, productCategory, tokens):\n",
    "    # Should return a dictionary containing features as keys, and weights as values\n",
    "    # DESCRIBE YOUR METHOD IN WORDS\n",
    "    \n",
    "    localDict = {}\n",
    "    \n",
    "    # Rating\n",
    "    localDict['Rating'] = Rating\n",
    "    featureDict['Rating'] = 1\n",
    "    \n",
    "    # Verified Purchase\n",
    "    if verifiedPurchase == 'N':\n",
    "        localDict['VerifiedPurchase'] = 0\n",
    "    else:\n",
    "        localDict['VerifiedPurchase'] = 1\n",
    "        \n",
    "    featureDict['VerifiedPurchase'] = 1\n",
    "        \n",
    "    # Product Category\n",
    "    if productCategory not in localDict.keys():\n",
    "        localDict[productCategory] = 1\n",
    "    else:\n",
    "        localDict[productCategory] += 1\n",
    "        \n",
    "    if productCategory not in featureDict.keys():\n",
    "        featureDict[productCategory] = 1\n",
    "    else:\n",
    "        featureDict[productCategory] += 1\n",
    "    \n",
    "    # Review Text\n",
    "    for word in tokens:\n",
    "        if word not in localDict.keys():\n",
    "            localDict[word] = 1\n",
    "        else:\n",
    "            localDict[word] += 1\n",
    "            \n",
    "        if word not in featureDict.keys():\n",
    "            featureDict[word] = 1\n",
    "        else:\n",
    "            featureDict[word] += 1\n",
    "    \n",
    "    return localDict"
   ]
  },
  {
   "cell_type": "code",
   "execution_count": 15,
   "metadata": {},
   "outputs": [],
   "source": [
    "# TRAINING AND VALIDATING OUR CLASSIFIER\n",
    "def trainClassifier(trainData):\n",
    "    print(\"Training Classifier...\")\n",
    "    \n",
    "    # Assign a regularization parameter of 0.01 (default = 1.0)\n",
    "    pipeline =  Pipeline([('svc', LinearSVC(C = 0.01))])\n",
    "    \n",
    "    return SklearnClassifier(pipeline).train(trainData)"
   ]
  },
  {
   "cell_type": "code",
   "execution_count": 16,
   "metadata": {},
   "outputs": [],
   "source": [
    "import numpy as np\n",
    "\n",
    "def crossValidate(dataset, folds):\n",
    "    shuffle(dataset)\n",
    "    cv_results = []\n",
    "    foldSize = int(len(dataset)/folds)\n",
    "    # DESCRIBE YOUR METHOD IN WORDS\n",
    "    \n",
    "    # Initiates two lists for train and test data which will have elements \n",
    "    # appended to them iteratively based on the value of the variable'i' \n",
    "    # which represents the dataset index in a given iteration.\n",
    "    \n",
    "    # Trains the classifier, assigns to variables the ground-truth labels and \n",
    "    # classifies the test data to get the predicted labels.\n",
    "    \n",
    "    # Computes the weighted averages of the requested evaluation metrics \n",
    "    # (Precision, Recall, F1 Score, Accuracy) using utlity functions \n",
    "    # imported from sklearn.\n",
    "    \n",
    "    # Finally logs to the screen the evaluation metrics computed for each \n",
    "    # specific fold and then prints a list containing the means of all those metrics\n",
    "    # as requested.\n",
    "    \n",
    "    iterations = -1\n",
    "    \n",
    "    for i in range(0,len(dataset),foldSize):\n",
    "        iterations += 1\n",
    "        \n",
    "        trainData = dataset[i:(i+foldSize-1)]\n",
    "        \n",
    "        if not i:\n",
    "            testData = dataset[(i+foldSize):(len(dataset)-1)]\n",
    "        elif i == len(dataset)-foldSize:\n",
    "            testData = dataset[0:iterations*foldSize-1]\n",
    "        else:\n",
    "            testData = dataset[0:iterations*foldSize-1]+dataset[(i+foldSize):(len(dataset)-1)]\n",
    "        \n",
    "        classifier = trainClassifier(trainData)  # train the classifier\n",
    "        \n",
    "        testTrue = [t[1] for t in testData]   # get the ground-truth labels from the data\n",
    "        testPred = predictLabels(testData, classifier)  # classify the test data to get predicted labels\n",
    "        \n",
    "        # Evaluation metrics (weighted averages):\n",
    "        \n",
    "        # Precision and Recall\n",
    "        prec_rec_f = precision_recall_fscore_support(testTrue, testPred, average='weighted')\n",
    "        \n",
    "        # Accuracy (normalised by default)\n",
    "        accuracy = accuracy_score(testTrue, testPred)\n",
    "        \n",
    "        print(F\"For fold number {iterations + 1} - Precision: {prec_rec_f[0]}; Recall: {prec_rec_f[1]}\")\n",
    "        print(F\"F1 Score: {prec_rec_f[2]}; Accuracy: {accuracy}\\n\")\n",
    "        \n",
    "        cv_results.append((prec_rec_f[0], prec_rec_f[1], prec_rec_f[2], accuracy))\n",
    "    \n",
    "    cv_results = (np.mean(np.array(cv_results), axis=0))\n",
    "    print(\"The mean (average) of cross-validation metrics are as follows (Precision, Recall, F1 Score, Accuracy):\")\n",
    "    print(cv_results)\n",
    "    \n",
    "    return cv_results"
   ]
  },
  {
   "cell_type": "code",
   "execution_count": 17,
   "metadata": {},
   "outputs": [],
   "source": [
    "# PREDICTING LABELS GIVEN A CLASSIFIER\n",
    "\n",
    "def predictLabels(reviewSamples, classifier):\n",
    "    return classifier.classify_many(map(lambda t: t[0], reviewSamples))\n",
    "\n",
    "def predictLabel(reviewSample, classifier):\n",
    "    return classifier.classify(toFeatureVector(preProcess(reviewSample)))"
   ]
  },
  {
   "cell_type": "code",
   "execution_count": 18,
   "metadata": {
    "scrolled": false
   },
   "outputs": [
    {
     "name": "stdout",
     "output_type": "stream",
     "text": [
      "Now 0 rawData, 0 trainData, 0 testData\n",
      "Preparing the dataset...\n",
      "Now 21000 rawData, 0 trainData, 0 testData\n",
      "Preparing training and test data...\n",
      "After split, 21000 rawData, 16800 trainData, 4200 testData\n",
      "Training Samples: \n",
      "16800\n",
      "Features: \n",
      "620324\n",
      "Training Classifier...\n",
      "For fold number 1 - Precision: 0.7979624163195538; Recall: 0.7942324227792843\n",
      "F1 Score: 0.7936280467441809; Accuracy: 0.7942324227792843\n",
      "\n",
      "Training Classifier...\n",
      "For fold number 2 - Precision: 0.7914386611142862; Recall: 0.7893239846540547\n",
      "F1 Score: 0.7889903384316311; Accuracy: 0.7893239846540547\n",
      "\n",
      "Training Classifier...\n",
      "For fold number 3 - Precision: 0.7946811863658666; Recall: 0.793028178330467\n",
      "F1 Score: 0.7927179597584697; Accuracy: 0.793028178330467\n",
      "\n",
      "Training Classifier...\n",
      "For fold number 4 - Precision: 0.7912588115806739; Recall: 0.7881994972880011\n",
      "F1 Score: 0.7876457672626163; Accuracy: 0.7881994972880011\n",
      "\n",
      "Training Classifier...\n",
      "For fold number 5 - Precision: 0.7931740094580906; Recall: 0.7901838867575076\n",
      "F1 Score: 0.7896551273544881; Accuracy: 0.7901838867575076\n",
      "\n",
      "Training Classifier...\n",
      "For fold number 6 - Precision: 0.7929077903658185; Recall: 0.7910437888609605\n",
      "F1 Score: 0.7907447490507866; Accuracy: 0.7910437888609605\n",
      "\n",
      "Training Classifier...\n",
      "For fold number 7 - Precision: 0.7979608976710062; Recall: 0.7967985183225295\n",
      "F1 Score: 0.796566814374527; Accuracy: 0.7967985183225295\n",
      "\n",
      "Training Classifier...\n",
      "For fold number 8 - Precision: 0.7903641695062147; Recall: 0.7869427172906469\n",
      "F1 Score: 0.7863689778556969; Accuracy: 0.7869427172906469\n",
      "\n",
      "Training Classifier...\n",
      "For fold number 9 - Precision: 0.7939913667795022; Recall: 0.7928297393835163\n",
      "F1 Score: 0.7925744262125936; Accuracy: 0.7928297393835163\n",
      "\n",
      "Training Classifier...\n",
      "For fold number 10 - Precision: 0.7946960623657335; Recall: 0.7929095839671936\n",
      "F1 Score: 0.7925683066273119; Accuracy: 0.7929095839671936\n",
      "\n",
      "The mean (average) of cross-validation metrics are as follows (Precision, Recall, F1 Score, Accuracy):\n",
      "[0.79384354 0.79154923 0.79114605 0.79154923]\n"
     ]
    },
    {
     "data": {
      "text/plain": [
       "array([0.79384354, 0.79154923, 0.79114605, 0.79154923])"
      ]
     },
     "execution_count": 18,
     "metadata": {},
     "output_type": "execute_result"
    }
   ],
   "source": [
    "# MAIN\n",
    "\n",
    "# loading reviews\n",
    "# initialize global lists that will be appended to by the methods below\n",
    "rawData = []          # the filtered data from the dataset file (should be 21000 samples)\n",
    "trainData = []        # the pre-processed training data as a percentage of the total dataset (currently 80%, or 16800 samples)\n",
    "testData = []         # the pre-processed test data as a percentage of the total dataset (currently 20%, or 4200 samples)\n",
    "\n",
    "preprocessedData = [] # the pre-processed reviews\n",
    "\n",
    "# the output classes\n",
    "fakeLabel = 'fake'\n",
    "realLabel = 'real'\n",
    "\n",
    "# references to the data files\n",
    "reviewPath = 'amazon_reviews.txt'\n",
    "\n",
    "# Do the actual stuff (i.e. call the functions we've made)\n",
    "# We parse the dataset and put it in a raw data list\n",
    "print(\"Now %d rawData, %d trainData, %d testData\" % (len(rawData), len(trainData), len(testData)),\n",
    "      \"Preparing the dataset...\",sep='\\n')\n",
    "loadData(reviewPath) \n",
    "\n",
    "# We split the raw dataset into a set of training data and a set of test data (80/20)\n",
    "# You do the cross validation on the 80% (training data)\n",
    "# We print the number of training samples and the number of features before the split\n",
    "print(\"Now %d rawData, %d trainData, %d testData\" % (len(rawData), len(trainData), len(testData)),\n",
    "      \"Preparing training and test data...\",sep='\\n')\n",
    "splitData(0.8)\n",
    "# We print the number of training samples and the number of features after the split\n",
    "print(\"After split, %d rawData, %d trainData, %d testData\" % (len(rawData), len(trainData), len(testData)),\n",
    "      \"Training Samples: \", len(trainData), \"Features: \", len(featureDict), sep='\\n')\n",
    "\n",
    "# QUESTION 3 - Make sure there is a function call here to the\n",
    "# crossValidate function on the training set to get your results\n",
    "\n",
    "from sklearn.metrics import precision_recall_fscore_support\n",
    "from sklearn.metrics import f1_score\n",
    "from sklearn.metrics import accuracy_score\n",
    "\n",
    "crossValidate(trainData, 10)"
   ]
  },
  {
   "cell_type": "markdown",
   "metadata": {},
   "source": [
    "# Evaluate on test set"
   ]
  },
  {
   "cell_type": "code",
   "execution_count": 19,
   "metadata": {},
   "outputs": [
    {
     "name": "stdout",
     "output_type": "stream",
     "text": [
      "({'Rating': 5, 'VerifiedPurchase': 0, 'Grocery': 1, 'this assortment': 1, 'assortment really': 1, \"really hershey's\": 1, \"hershey's best.\": 1, 'best. the': 1, 'the little': 1, 'little one': 1, 'one always': 1, 'always excited': 1, 'excited whenever': 1, 'whenever holiday': 1, 'holiday come': 1, 'come this.': 1, 'this': 1, 'assortment': 1, 'really': 1, \"hershey's\": 1, 'best.': 1, 'the': 1, 'little': 1, 'one': 1, 'always': 1, 'excited': 1, 'whenever': 1, 'holiday': 1, 'come': 1, 'this.': 1}, 'fake')\n",
      "Training Classifier...\n",
      "Done training!\n",
      "Precision: 0.810979\n",
      "Recall: 0.805952\n",
      "F Score: 0.805165\n"
     ]
    }
   ],
   "source": [
    "# Finally, check the accuracy of your classifier by training on all the tranin data\n",
    "# and testing on the test set\n",
    "# Will only work once all functions are complete\n",
    "functions_complete = True  # set to True once you're happy with your methods for cross val\n",
    "if functions_complete:\n",
    "    print(testData[0])   # have a look at the first test data instance\n",
    "    classifier = trainClassifier(trainData)  # train the classifier\n",
    "    testTrue = [t[1] for t in testData]   # get the ground-truth labels from the data\n",
    "    testPred = predictLabels(testData, classifier)  # classify the test data to get predicted labels\n",
    "    finalScores = precision_recall_fscore_support(testTrue, testPred, average='weighted') # evaluate\n",
    "    print(\"Done training!\")\n",
    "    print(\"Precision: %f\\nRecall: %f\\nF Score: %f\" % finalScores[:3])"
   ]
  }
 ],
 "metadata": {
  "kernelspec": {
   "display_name": "Python 3",
   "language": "python",
   "name": "python3"
  },
  "language_info": {
   "codemirror_mode": {
    "name": "ipython",
    "version": 3
   },
   "file_extension": ".py",
   "mimetype": "text/x-python",
   "name": "python",
   "nbconvert_exporter": "python",
   "pygments_lexer": "ipython3",
   "version": "3.8.3"
  }
 },
 "nbformat": 4,
 "nbformat_minor": 2
}
